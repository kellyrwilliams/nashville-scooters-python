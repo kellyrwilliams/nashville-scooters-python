{
 "cells": [
  {
   "cell_type": "code",
   "execution_count": 1,
   "metadata": {},
   "outputs": [],
   "source": [
    "import pandas as pd\n",
    "import numpy as np\n",
    "import matplotlib.pyplot as plt\n",
    "import geopandas as gpd\n",
    "import folium\n",
    "from folium.plugins import MarkerCluster\n",
    "from folium.plugins import FastMarkerCluster\n",
    "import datetime\n",
    "%matplotlib inline"
   ]
  },
  {
   "cell_type": "code",
   "execution_count": 2,
   "metadata": {},
   "outputs": [],
   "source": [
    "#company_dict = {'Bird':0, 'Lyft': 1, 'Gotcha': 2, 'Lime': 3, 'Spin': 4, 'Jump': 5, 'Bolt': 6}\n"
   ]
  },
  {
   "cell_type": "code",
   "execution_count": 3,
   "metadata": {},
   "outputs": [
    {
     "name": "stdout",
     "output_type": "stream",
     "text": [
      "<class 'pandas.core.frame.DataFrame'>\n",
      "RangeIndex: 20283582 entries, 0 to 20283581\n",
      "Data columns (total 6 columns):\n",
      " #   Column       Dtype         \n",
      "---  ------       -----         \n",
      " 0   pubdatetime  datetime64[ns]\n",
      " 1   latitude     float64       \n",
      " 2   longitude    float64       \n",
      " 3   sumdid       object        \n",
      " 4   chargelevel  float64       \n",
      " 5   companyname  int64         \n",
      "dtypes: datetime64[ns](1), float64(3), int64(1), object(1)\n",
      "memory usage: 928.5+ MB\n"
     ]
    }
   ],
   "source": [
    "may_location = pd.read_pickle(\"../data/may.pkl\")\n",
    "may_location.info()"
   ]
  },
  {
   "cell_type": "code",
   "execution_count": 4,
   "metadata": {},
   "outputs": [],
   "source": [
    "#may_location_csv = pd.read_csv(\"../data/may.csv\")"
   ]
  },
  {
   "cell_type": "code",
   "execution_count": 5,
   "metadata": {},
   "outputs": [],
   "source": [
    "june_location = pd.read_pickle(\"../data/june.pkl\")"
   ]
  },
  {
   "cell_type": "code",
   "execution_count": 6,
   "metadata": {},
   "outputs": [],
   "source": [
    "july_location = pd.read_pickle(\"../data/july.pkl\")"
   ]
  },
  {
   "cell_type": "code",
   "execution_count": 7,
   "metadata": {},
   "outputs": [],
   "source": [
    "may_trip = pd.read_csv('../data/may_trip.csv')"
   ]
  },
  {
   "cell_type": "code",
   "execution_count": 8,
   "metadata": {},
   "outputs": [],
   "source": [
    "june_trip = pd.read_csv('../data/june_trip.csv')"
   ]
  },
  {
   "cell_type": "code",
   "execution_count": 9,
   "metadata": {},
   "outputs": [],
   "source": [
    "july_trip = pd.read_csv('../data/july_trip.csv')"
   ]
  },
  {
   "cell_type": "markdown",
   "metadata": {},
   "source": [
    "may_location_chunk1 =[]\n",
    "\n",
    "for chunk in pd.read_csv(\"../data/may.csv\", chunksize = 4000):\n",
    "    may_location_chunk1.append(chunk[chunk['companyname'] == '0']) \n",
    "\n",
    "pd.DataFrame(may_location_chunk1)\n",
    "\n",
    "may_location_chunk2 = []\n",
    "for chunk in pd.read_csv(\"../data/may.csv\", chunksize = 4000):\n",
    "    may_location_chunk2.append(chunk[chunk['companyname'] == '3']) \n",
    "\n",
    "pd.DataFrame(may_location_chunk2)\n",
    "\n",
    "    \n",
    "may_location_chunk3 = []\n",
    "for chunk in pd.read_csv(\"../data/may.csv\", chunksize = 4000):\n",
    "    may_location_chunk3.append(chunk[chunk['companyname'] == '4']) \n",
    "\n",
    "pd.DataFrame(may_location_chunk3)\n",
    "\n",
    "\n",
    "all_may_chunks = [may_location_chunk1, may_location_chunk2, may_location_chunk3]\n",
    "\n",
    "pd.all_may_chunks(A.T.reshape(0, 1), columns=cols)\n",
    "\n",
    "\n",
    "total_may_location = pd.concat(all_may_chunks)"
   ]
  },
  {
   "cell_type": "code",
   "execution_count": 10,
   "metadata": {},
   "outputs": [],
   "source": [
    "#trips = [may_trip, june_trip, july_trip]\n",
    "#total_trips = pd.concat(trips)\n",
    "#total_trips.head"
   ]
  },
  {
   "cell_type": "code",
   "execution_count": 11,
   "metadata": {},
   "outputs": [],
   "source": [
    "#locations = [may_location, june_location, july_location]\n",
    "#total_polled_locations = pd.concat(locations)\n",
    "#total_polled_locations.head"
   ]
  },
  {
   "cell_type": "code",
   "execution_count": 12,
   "metadata": {},
   "outputs": [],
   "source": [
    "#total_trips.value_counts('sumdID').head(25)"
   ]
  },
  {
   "cell_type": "code",
   "execution_count": 13,
   "metadata": {},
   "outputs": [],
   "source": [
    "#total_polled_locations.value_counts('chargelevel').head(25)"
   ]
  },
  {
   "cell_type": "code",
   "execution_count": 14,
   "metadata": {},
   "outputs": [],
   "source": [
    "# scooters with charge level between 95-100% ---> just dropped off\n",
    "# scooters with charge level between 0-10% ---> will be picked up\n",
    "\n"
   ]
  },
  {
   "cell_type": "code",
   "execution_count": 15,
   "metadata": {},
   "outputs": [
    {
     "name": "stdout",
     "output_type": "stream",
     "text": [
      "<class 'pandas.core.frame.DataFrame'>\n",
      "Int64Index: 5194183 entries, 3 to 28037403\n",
      "Data columns (total 6 columns):\n",
      " #   Column       Dtype         \n",
      "---  ------       -----         \n",
      " 0   pubdatetime  datetime64[ns]\n",
      " 1   latitude     float64       \n",
      " 2   longitude    float64       \n",
      " 3   sumdid       object        \n",
      " 4   chargelevel  float64       \n",
      " 5   companyname  int64         \n",
      "dtypes: datetime64[ns](1), float64(3), int64(1), object(1)\n",
      "memory usage: 277.4+ MB\n"
     ]
    }
   ],
   "source": [
    "june_filtered = june_location.loc[(june_location.chargelevel == 0.0) | (june_location.chargelevel == 100.00)]\n",
    "june_filtered.value_counts('chargelevel')\n",
    "june_filtered.info()"
   ]
  },
  {
   "cell_type": "code",
   "execution_count": 16,
   "metadata": {},
   "outputs": [
    {
     "name": "stderr",
     "output_type": "stream",
     "text": [
      "<ipython-input-16-a99c47066d3b>:1: SettingWithCopyWarning: \n",
      "A value is trying to be set on a copy of a slice from a DataFrame.\n",
      "Try using .loc[row_indexer,col_indexer] = value instead\n",
      "\n",
      "See the caveats in the documentation: https://pandas.pydata.org/pandas-docs/stable/user_guide/indexing.html#returning-a-view-versus-a-copy\n",
      "  june_filtered['date'] = june_filtered['pubdatetime'].dt.strftime(\"%m/%d/%y\")\n"
     ]
    }
   ],
   "source": [
    "june_filtered['date'] = june_filtered['pubdatetime'].dt.strftime(\"%m/%d/%y\")\n"
   ]
  },
  {
   "cell_type": "code",
   "execution_count": 17,
   "metadata": {},
   "outputs": [],
   "source": [
    "companies = [3]"
   ]
  },
  {
   "cell_type": "code",
   "execution_count": 18,
   "metadata": {},
   "outputs": [],
   "source": [
    "dates = ['06/1/19']"
   ]
  },
  {
   "cell_type": "code",
   "execution_count": 19,
   "metadata": {
    "scrolled": true
   },
   "outputs": [
    {
     "data": {
      "text/html": [
       "<div>\n",
       "<style scoped>\n",
       "    .dataframe tbody tr th:only-of-type {\n",
       "        vertical-align: middle;\n",
       "    }\n",
       "\n",
       "    .dataframe tbody tr th {\n",
       "        vertical-align: top;\n",
       "    }\n",
       "\n",
       "    .dataframe thead th {\n",
       "        text-align: right;\n",
       "    }\n",
       "</style>\n",
       "<table border=\"1\" class=\"dataframe\">\n",
       "  <thead>\n",
       "    <tr style=\"text-align: right;\">\n",
       "      <th></th>\n",
       "      <th>pubdatetime</th>\n",
       "      <th>latitude</th>\n",
       "      <th>longitude</th>\n",
       "      <th>sumdid</th>\n",
       "      <th>chargelevel</th>\n",
       "      <th>companyname</th>\n",
       "      <th>date</th>\n",
       "    </tr>\n",
       "  </thead>\n",
       "  <tbody>\n",
       "    <tr>\n",
       "      <th>3</th>\n",
       "      <td>2019-06-01 00:00:12</td>\n",
       "      <td>36.1201</td>\n",
       "      <td>-86.7530</td>\n",
       "      <td>Powered71fa5e4f-1e17-54c4-936d-330df38cc2fa</td>\n",
       "      <td>0.0</td>\n",
       "      <td>5</td>\n",
       "      <td>06/01/19</td>\n",
       "    </tr>\n",
       "    <tr>\n",
       "      <th>16</th>\n",
       "      <td>2019-06-01 00:00:12</td>\n",
       "      <td>36.1202</td>\n",
       "      <td>-86.7533</td>\n",
       "      <td>Powerede4138a33-4d2e-5ce4-ad3c-9da496472b9d</td>\n",
       "      <td>0.0</td>\n",
       "      <td>5</td>\n",
       "      <td>06/01/19</td>\n",
       "    </tr>\n",
       "    <tr>\n",
       "      <th>17</th>\n",
       "      <td>2019-06-01 00:00:12</td>\n",
       "      <td>36.1199</td>\n",
       "      <td>-86.7532</td>\n",
       "      <td>Powered947f9e23-64e9-5dc6-af9c-3980af15c192</td>\n",
       "      <td>0.0</td>\n",
       "      <td>5</td>\n",
       "      <td>06/01/19</td>\n",
       "    </tr>\n",
       "    <tr>\n",
       "      <th>23</th>\n",
       "      <td>2019-06-01 00:00:12</td>\n",
       "      <td>36.1198</td>\n",
       "      <td>-86.7532</td>\n",
       "      <td>Powered96fbef92-52d1-586a-b97f-8c6de34b6291</td>\n",
       "      <td>0.0</td>\n",
       "      <td>5</td>\n",
       "      <td>06/01/19</td>\n",
       "    </tr>\n",
       "    <tr>\n",
       "      <th>25</th>\n",
       "      <td>2019-06-01 00:00:12</td>\n",
       "      <td>36.1203</td>\n",
       "      <td>-86.7536</td>\n",
       "      <td>Poweredc25cd7bb-3007-5df0-b0c8-606eaf139918</td>\n",
       "      <td>0.0</td>\n",
       "      <td>5</td>\n",
       "      <td>06/01/19</td>\n",
       "    </tr>\n",
       "  </tbody>\n",
       "</table>\n",
       "</div>"
      ],
      "text/plain": [
       "           pubdatetime  latitude  longitude  \\\n",
       "3  2019-06-01 00:00:12   36.1201   -86.7530   \n",
       "16 2019-06-01 00:00:12   36.1202   -86.7533   \n",
       "17 2019-06-01 00:00:12   36.1199   -86.7532   \n",
       "23 2019-06-01 00:00:12   36.1198   -86.7532   \n",
       "25 2019-06-01 00:00:12   36.1203   -86.7536   \n",
       "\n",
       "                                         sumdid  chargelevel  companyname  \\\n",
       "3   Powered71fa5e4f-1e17-54c4-936d-330df38cc2fa          0.0            5   \n",
       "16  Powerede4138a33-4d2e-5ce4-ad3c-9da496472b9d          0.0            5   \n",
       "17  Powered947f9e23-64e9-5dc6-af9c-3980af15c192          0.0            5   \n",
       "23  Powered96fbef92-52d1-586a-b97f-8c6de34b6291          0.0            5   \n",
       "25  Poweredc25cd7bb-3007-5df0-b0c8-606eaf139918          0.0            5   \n",
       "\n",
       "        date  \n",
       "3   06/01/19  \n",
       "16  06/01/19  \n",
       "17  06/01/19  \n",
       "23  06/01/19  \n",
       "25  06/01/19  "
      ]
     },
     "execution_count": 19,
     "metadata": {},
     "output_type": "execute_result"
    }
   ],
   "source": [
    "june_filtered.head()"
   ]
  },
  {
   "cell_type": "code",
   "execution_count": 20,
   "metadata": {},
   "outputs": [
    {
     "data": {
      "text/html": [
       "<div>\n",
       "<style scoped>\n",
       "    .dataframe tbody tr th:only-of-type {\n",
       "        vertical-align: middle;\n",
       "    }\n",
       "\n",
       "    .dataframe tbody tr th {\n",
       "        vertical-align: top;\n",
       "    }\n",
       "\n",
       "    .dataframe thead th {\n",
       "        text-align: right;\n",
       "    }\n",
       "</style>\n",
       "<table border=\"1\" class=\"dataframe\">\n",
       "  <thead>\n",
       "    <tr style=\"text-align: right;\">\n",
       "      <th></th>\n",
       "      <th>pubdatetime</th>\n",
       "      <th>latitude</th>\n",
       "      <th>longitude</th>\n",
       "      <th>sumdid</th>\n",
       "      <th>chargelevel</th>\n",
       "      <th>companyname</th>\n",
       "      <th>date</th>\n",
       "    </tr>\n",
       "  </thead>\n",
       "  <tbody>\n",
       "  </tbody>\n",
       "</table>\n",
       "</div>"
      ],
      "text/plain": [
       "Empty DataFrame\n",
       "Columns: [pubdatetime, latitude, longitude, sumdid, chargelevel, companyname, date]\n",
       "Index: []"
      ]
     },
     "execution_count": 20,
     "metadata": {},
     "output_type": "execute_result"
    }
   ],
   "source": [
    "june_filtered.query('date in @dates')"
   ]
  },
  {
   "cell_type": "code",
   "execution_count": 21,
   "metadata": {},
   "outputs": [],
   "source": [
    "filtered_june_df = june_filtered.query('companyname in @companies')"
   ]
  },
  {
   "cell_type": "code",
   "execution_count": 22,
   "metadata": {
    "scrolled": true
   },
   "outputs": [
    {
     "name": "stdout",
     "output_type": "stream",
     "text": [
      "<class 'pandas.core.frame.DataFrame'>\n",
      "Int64Index: 738475 entries, 2581 to 28037403\n",
      "Data columns (total 7 columns):\n",
      " #   Column       Non-Null Count   Dtype         \n",
      "---  ------       --------------   -----         \n",
      " 0   pubdatetime  738475 non-null  datetime64[ns]\n",
      " 1   latitude     738475 non-null  float64       \n",
      " 2   longitude    738475 non-null  float64       \n",
      " 3   sumdid       738475 non-null  object        \n",
      " 4   chargelevel  738475 non-null  float64       \n",
      " 5   companyname  738475 non-null  int64         \n",
      " 6   date         738475 non-null  object        \n",
      "dtypes: datetime64[ns](1), float64(3), int64(1), object(2)\n",
      "memory usage: 45.1+ MB\n"
     ]
    }
   ],
   "source": [
    "filtered_june_df.info()"
   ]
  },
  {
   "cell_type": "code",
   "execution_count": null,
   "metadata": {},
   "outputs": [],
   "source": []
  },
  {
   "cell_type": "code",
   "execution_count": 23,
   "metadata": {},
   "outputs": [],
   "source": [
    "#filtered_may_df = may_filtered.query('pubdatetime' in ) "
   ]
  },
  {
   "cell_type": "code",
   "execution_count": 24,
   "metadata": {},
   "outputs": [],
   "source": [
    "#geo_df = pd.DataFrame(filtered_df)"
   ]
  },
  {
   "cell_type": "code",
   "execution_count": 25,
   "metadata": {},
   "outputs": [],
   "source": [
    "gdf_june = gpd.GeoDataFrame(\n",
    "    filtered_june_df, geometry=gpd.points_from_xy(filtered_june_df.longitude, filtered_june_df.latitude))\n"
   ]
  },
  {
   "cell_type": "code",
   "execution_count": 26,
   "metadata": {},
   "outputs": [],
   "source": [
    "gdf_june.crs = \"EPSG:4326\" "
   ]
  },
  {
   "cell_type": "code",
   "execution_count": 27,
   "metadata": {
    "scrolled": true
   },
   "outputs": [],
   "source": [
    "gdf_june.geometry = gdf_june.geometry.to_crs('EPSG:4326')"
   ]
  },
  {
   "cell_type": "code",
   "execution_count": 28,
   "metadata": {
    "scrolled": true
   },
   "outputs": [
    {
     "data": {
      "text/html": [
       "<div>\n",
       "<style scoped>\n",
       "    .dataframe tbody tr th:only-of-type {\n",
       "        vertical-align: middle;\n",
       "    }\n",
       "\n",
       "    .dataframe tbody tr th {\n",
       "        vertical-align: top;\n",
       "    }\n",
       "\n",
       "    .dataframe thead th {\n",
       "        text-align: right;\n",
       "    }\n",
       "</style>\n",
       "<table border=\"1\" class=\"dataframe\">\n",
       "  <thead>\n",
       "    <tr style=\"text-align: right;\">\n",
       "      <th></th>\n",
       "      <th>pubdatetime</th>\n",
       "      <th>latitude</th>\n",
       "      <th>longitude</th>\n",
       "      <th>sumdid</th>\n",
       "      <th>chargelevel</th>\n",
       "      <th>companyname</th>\n",
       "      <th>date</th>\n",
       "      <th>geometry</th>\n",
       "    </tr>\n",
       "  </thead>\n",
       "  <tbody>\n",
       "    <tr>\n",
       "      <th>2581</th>\n",
       "      <td>2019-06-01 00:03:27.217</td>\n",
       "      <td>36.224033</td>\n",
       "      <td>-86.823593</td>\n",
       "      <td>PoweredYXBSW7L6G6ABR</td>\n",
       "      <td>100.0</td>\n",
       "      <td>3</td>\n",
       "      <td>06/01/19</td>\n",
       "      <td>POINT (-86.82359 36.22403)</td>\n",
       "    </tr>\n",
       "    <tr>\n",
       "      <th>2591</th>\n",
       "      <td>2019-06-01 00:03:27.217</td>\n",
       "      <td>36.179376</td>\n",
       "      <td>-86.838468</td>\n",
       "      <td>Powered6GHEMWO6YRJIP</td>\n",
       "      <td>100.0</td>\n",
       "      <td>3</td>\n",
       "      <td>06/01/19</td>\n",
       "      <td>POINT (-86.83847 36.17938)</td>\n",
       "    </tr>\n",
       "    <tr>\n",
       "      <th>2616</th>\n",
       "      <td>2019-06-01 00:03:27.220</td>\n",
       "      <td>36.179306</td>\n",
       "      <td>-86.838476</td>\n",
       "      <td>Powered54KEA6DCRAUJI</td>\n",
       "      <td>100.0</td>\n",
       "      <td>3</td>\n",
       "      <td>06/01/19</td>\n",
       "      <td>POINT (-86.83848 36.17931)</td>\n",
       "    </tr>\n",
       "    <tr>\n",
       "      <th>2640</th>\n",
       "      <td>2019-06-01 00:03:27.220</td>\n",
       "      <td>36.179390</td>\n",
       "      <td>-86.838447</td>\n",
       "      <td>PoweredBYKFOWELGPKH6</td>\n",
       "      <td>100.0</td>\n",
       "      <td>3</td>\n",
       "      <td>06/01/19</td>\n",
       "      <td>POINT (-86.83845 36.17939)</td>\n",
       "    </tr>\n",
       "    <tr>\n",
       "      <th>2672</th>\n",
       "      <td>2019-06-01 00:03:27.220</td>\n",
       "      <td>36.164243</td>\n",
       "      <td>-86.769624</td>\n",
       "      <td>Powered4VG2VR4XATZYG</td>\n",
       "      <td>100.0</td>\n",
       "      <td>3</td>\n",
       "      <td>06/01/19</td>\n",
       "      <td>POINT (-86.76962 36.16424)</td>\n",
       "    </tr>\n",
       "  </tbody>\n",
       "</table>\n",
       "</div>"
      ],
      "text/plain": [
       "                 pubdatetime   latitude  longitude                sumdid  \\\n",
       "2581 2019-06-01 00:03:27.217  36.224033 -86.823593  PoweredYXBSW7L6G6ABR   \n",
       "2591 2019-06-01 00:03:27.217  36.179376 -86.838468  Powered6GHEMWO6YRJIP   \n",
       "2616 2019-06-01 00:03:27.220  36.179306 -86.838476  Powered54KEA6DCRAUJI   \n",
       "2640 2019-06-01 00:03:27.220  36.179390 -86.838447  PoweredBYKFOWELGPKH6   \n",
       "2672 2019-06-01 00:03:27.220  36.164243 -86.769624  Powered4VG2VR4XATZYG   \n",
       "\n",
       "      chargelevel  companyname      date                    geometry  \n",
       "2581        100.0            3  06/01/19  POINT (-86.82359 36.22403)  \n",
       "2591        100.0            3  06/01/19  POINT (-86.83847 36.17938)  \n",
       "2616        100.0            3  06/01/19  POINT (-86.83848 36.17931)  \n",
       "2640        100.0            3  06/01/19  POINT (-86.83845 36.17939)  \n",
       "2672        100.0            3  06/01/19  POINT (-86.76962 36.16424)  "
      ]
     },
     "execution_count": 28,
     "metadata": {},
     "output_type": "execute_result"
    }
   ],
   "source": [
    "gdf_june.head(5)"
   ]
  },
  {
   "cell_type": "code",
   "execution_count": 29,
   "metadata": {},
   "outputs": [
    {
     "name": "stdout",
     "output_type": "stream",
     "text": [
      "epsg:4326\n"
     ]
    },
    {
     "data": {
      "text/html": [
       "<div>\n",
       "<style scoped>\n",
       "    .dataframe tbody tr th:only-of-type {\n",
       "        vertical-align: middle;\n",
       "    }\n",
       "\n",
       "    .dataframe tbody tr th {\n",
       "        vertical-align: top;\n",
       "    }\n",
       "\n",
       "    .dataframe thead th {\n",
       "        text-align: right;\n",
       "    }\n",
       "</style>\n",
       "<table border=\"1\" class=\"dataframe\">\n",
       "  <thead>\n",
       "    <tr style=\"text-align: right;\">\n",
       "      <th></th>\n",
       "      <th>zip</th>\n",
       "      <th>objectid</th>\n",
       "      <th>po_name</th>\n",
       "      <th>shape_stlength</th>\n",
       "      <th>shape_starea</th>\n",
       "      <th>geometry</th>\n",
       "    </tr>\n",
       "  </thead>\n",
       "  <tbody>\n",
       "    <tr>\n",
       "      <th>0</th>\n",
       "      <td>37115</td>\n",
       "      <td>1</td>\n",
       "      <td>MADISON</td>\n",
       "      <td>178783.02488886821</td>\n",
       "      <td>596553400.57885742</td>\n",
       "      <td>MULTIPOLYGON (((-86.68725 36.31821, -86.68722 ...</td>\n",
       "    </tr>\n",
       "    <tr>\n",
       "      <th>1</th>\n",
       "      <td>37203</td>\n",
       "      <td>33</td>\n",
       "      <td>NASHVILLE</td>\n",
       "      <td>93532.890729543782</td>\n",
       "      <td>120334624.37817383</td>\n",
       "      <td>MULTIPOLYGON (((-86.78734 36.16688, -86.78711 ...</td>\n",
       "    </tr>\n",
       "    <tr>\n",
       "      <th>2</th>\n",
       "      <td>37216</td>\n",
       "      <td>3</td>\n",
       "      <td>NASHVILLE</td>\n",
       "      <td>75820.997821400058</td>\n",
       "      <td>188884682.28344727</td>\n",
       "      <td>MULTIPOLYGON (((-86.73451 36.23774, -86.73425 ...</td>\n",
       "    </tr>\n",
       "    <tr>\n",
       "      <th>3</th>\n",
       "      <td>37204</td>\n",
       "      <td>9</td>\n",
       "      <td>NASHVILLE</td>\n",
       "      <td>93180.292250425613</td>\n",
       "      <td>200664795.51708984</td>\n",
       "      <td>MULTIPOLYGON (((-86.77914 36.13424, -86.77923 ...</td>\n",
       "    </tr>\n",
       "    <tr>\n",
       "      <th>4</th>\n",
       "      <td>37027</td>\n",
       "      <td>11</td>\n",
       "      <td>BRENTWOOD</td>\n",
       "      <td>159760.6942933173</td>\n",
       "      <td>174978422.04101562</td>\n",
       "      <td>MULTIPOLYGON (((-86.81258 36.06319, -86.81263 ...</td>\n",
       "    </tr>\n",
       "  </tbody>\n",
       "</table>\n",
       "</div>"
      ],
      "text/plain": [
       "     zip objectid    po_name      shape_stlength        shape_starea  \\\n",
       "0  37115        1    MADISON  178783.02488886821  596553400.57885742   \n",
       "1  37203       33  NASHVILLE  93532.890729543782  120334624.37817383   \n",
       "2  37216        3  NASHVILLE  75820.997821400058  188884682.28344727   \n",
       "3  37204        9  NASHVILLE  93180.292250425613  200664795.51708984   \n",
       "4  37027       11  BRENTWOOD   159760.6942933173  174978422.04101562   \n",
       "\n",
       "                                            geometry  \n",
       "0  MULTIPOLYGON (((-86.68725 36.31821, -86.68722 ...  \n",
       "1  MULTIPOLYGON (((-86.78734 36.16688, -86.78711 ...  \n",
       "2  MULTIPOLYGON (((-86.73451 36.23774, -86.73425 ...  \n",
       "3  MULTIPOLYGON (((-86.77914 36.13424, -86.77923 ...  \n",
       "4  MULTIPOLYGON (((-86.81258 36.06319, -86.81263 ...  "
      ]
     },
     "execution_count": 29,
     "metadata": {},
     "output_type": "execute_result"
    }
   ],
   "source": [
    "zipcodes = gpd.read_file('../../geospatial-python-workshop-kellyrwilliams/data/zipcodes.geojson')\n",
    "print(zipcodes.crs)\n",
    "zipcodes.head( )"
   ]
  },
  {
   "cell_type": "code",
   "execution_count": 30,
   "metadata": {
    "scrolled": true
   },
   "outputs": [],
   "source": [
    "june_scooters_by_zipcodes = gpd.sjoin(gdf_june, zipcodes, op = 'within')"
   ]
  },
  {
   "cell_type": "code",
   "execution_count": 45,
   "metadata": {},
   "outputs": [
    {
     "ename": "SyntaxError",
     "evalue": "invalid syntax (<ipython-input-45-89f019480371>, line 1)",
     "output_type": "error",
     "traceback": [
      "\u001b[1;36m  File \u001b[1;32m\"<ipython-input-45-89f019480371>\"\u001b[1;36m, line \u001b[1;32m1\u001b[0m\n\u001b[1;33m    downtown_poly = ['zipcodes.loc[(zipcodes['zip'] == ['37201'])\u001b[0m\n\u001b[1;37m                                              ^\u001b[0m\n\u001b[1;31mSyntaxError\u001b[0m\u001b[1;31m:\u001b[0m invalid syntax\n"
     ]
    }
   ],
   "source": [
    "downtown_poly = ['zipcodes.loc[(zipcodes['zip'] == ['37201'])\n",
    "                 | (zipcodes['zip'] == '37203')\n",
    "                 | (zipcodes['zip'] == '37204')\n",
    "                 | (zipcodes['zip'] == '37205')\n",
    "                 | (zipcodes['zip'] == '37206')\n",
    "                 | (zipcodes['zip'] == '37207')\n",
    "                 | (zipcodes['zip'] =='37208')]"
   ]
  },
  {
   "cell_type": "code",
   "execution_count": 31,
   "metadata": {},
   "outputs": [],
   "source": [
    "#for ind, row in may_scooters_by_zipcodes.iterrows():\n",
    "  #  if row ['chargelevel'] == 100.00:\n",
    "   #         may_scooters_by_zipcodes.loc[ind, 'batterylevel'] = 'high'\n",
    "   # else:\n",
    "   #         may_scooters_by_zipcodes.loc[ind, 'batterylevel'] = 'low'"
   ]
  },
  {
   "cell_type": "code",
   "execution_count": 41,
   "metadata": {
    "scrolled": false
   },
   "outputs": [
    {
     "ename": "AttributeError",
     "evalue": "'bool' object has no attribute 'plot'",
     "output_type": "error",
     "traceback": [
      "\u001b[1;31m---------------------------------------------------------------------------\u001b[0m",
      "\u001b[1;31mAttributeError\u001b[0m                            Traceback (most recent call last)",
      "\u001b[1;32m<ipython-input-41-0f02b2b2fd70>\u001b[0m in \u001b[0;36m<module>\u001b[1;34m\u001b[0m\n\u001b[1;32m----> 1\u001b[1;33m \u001b[0max\u001b[0m \u001b[1;33m=\u001b[0m \u001b[0mdowntown_poly\u001b[0m\u001b[1;33m.\u001b[0m\u001b[0mplot\u001b[0m\u001b[1;33m(\u001b[0m\u001b[0mfigsize\u001b[0m\u001b[1;33m=\u001b[0m\u001b[1;33m(\u001b[0m\u001b[1;36m20\u001b[0m\u001b[1;33m,\u001b[0m\u001b[1;36m20\u001b[0m\u001b[1;33m)\u001b[0m\u001b[1;33m,\u001b[0m \u001b[0mcolor\u001b[0m \u001b[1;33m=\u001b[0m \u001b[1;34m'grey'\u001b[0m\u001b[1;33m,\u001b[0m \u001b[0medgecolor\u001b[0m \u001b[1;33m=\u001b[0m \u001b[1;34m\"black\"\u001b[0m\u001b[1;33m)\u001b[0m\u001b[1;33m\u001b[0m\u001b[1;33m\u001b[0m\u001b[0m\n\u001b[0m\u001b[0;32m      2\u001b[0m \u001b[0mjune_scooters_by_zipcodes\u001b[0m\u001b[1;33m.\u001b[0m\u001b[0mplot\u001b[0m\u001b[1;33m(\u001b[0m\u001b[0max\u001b[0m \u001b[1;33m=\u001b[0m \u001b[0max\u001b[0m\u001b[1;33m,\u001b[0m \u001b[0mcolumn\u001b[0m \u001b[1;33m=\u001b[0m \u001b[1;34m'chargelevel'\u001b[0m\u001b[1;33m,\u001b[0m \u001b[0mlegend\u001b[0m \u001b[1;33m=\u001b[0m \u001b[1;32mTrue\u001b[0m\u001b[1;33m,\u001b[0m \u001b[0malpha\u001b[0m\u001b[1;33m=\u001b[0m\u001b[1;36m0.2\u001b[0m\u001b[1;33m,\u001b[0m \u001b[0mmarkersize\u001b[0m\u001b[1;33m=\u001b[0m\u001b[1;36m1\u001b[0m\u001b[1;33m)\u001b[0m\u001b[1;33m\u001b[0m\u001b[1;33m\u001b[0m\u001b[0m\n\u001b[0;32m      3\u001b[0m \u001b[0mplt\u001b[0m\u001b[1;33m.\u001b[0m\u001b[0mshow\u001b[0m\u001b[1;33m(\u001b[0m\u001b[1;33m)\u001b[0m\u001b[1;33m\u001b[0m\u001b[1;33m\u001b[0m\u001b[0m\n",
      "\u001b[1;31mAttributeError\u001b[0m: 'bool' object has no attribute 'plot'"
     ]
    }
   ],
   "source": [
    "ax = downtown_poly.plot(figsize=(20,20), color = 'grey', edgecolor = \"black\")\n",
    "june_scooters_by_zipcodes.plot(ax = ax, column = 'chargelevel', legend = True, alpha=0.2, markersize=1)\n",
    "plt.show()"
   ]
  },
  {
   "cell_type": "code",
   "execution_count": 33,
   "metadata": {
    "scrolled": true
   },
   "outputs": [],
   "source": [
    "#zipcodes.geometry.centroid"
   ]
  },
  {
   "cell_type": "code",
   "execution_count": 34,
   "metadata": {},
   "outputs": [],
   "source": [
    "#center = zipcodes.geometry.centroid[37]\n",
    "#print(center)"
   ]
  },
  {
   "cell_type": "code",
   "execution_count": 35,
   "metadata": {},
   "outputs": [],
   "source": [
    "#area_center = [center.y, center.x]\n",
    "#print(area_center)"
   ]
  },
  {
   "cell_type": "code",
   "execution_count": 36,
   "metadata": {
    "scrolled": false
   },
   "outputs": [],
   "source": [
    "#map_scooters = folium.Map(location =  area_center, zoom_start = 12)\n",
    "#map_scooters"
   ]
  },
  {
   "cell_type": "code",
   "execution_count": null,
   "metadata": {
    "scrolled": true
   },
   "outputs": [],
   "source": []
  },
  {
   "cell_type": "code",
   "execution_count": 37,
   "metadata": {},
   "outputs": [],
   "source": [
    "#draw our zip code area: 37207\n",
    "#map_scooters = folium.Map(location =  area_center, zoom_start = 12)\n",
    "\n",
    "#folium.GeoJson(zipcodes).add_to(map_scooters)\n",
    "\n",
    "#iterate through stops_in_37207 to create locations and markers \n",
    "#for each bus stop\n",
    "#remember for Folium locations, lat is listed first!!\n",
    "\n",
    "#for row_index, row_values in june_scooters_by_zipcodes.iterrows():\n",
    " #   loc = [row_values['latitude'], row_values['longitude']]\n",
    "  #  pop = str(row_values['chargelevel'])\n",
    "   # icon = folium.Icon(color = 'red', icon='battery-empty', prefix ='fa')\n",
    "   # if row_values['chargelevel'] == 0:\n",
    "      #  icon = folium.Icon(color = 'red', icon='battery-empty', prefix ='fa')\n",
    "    #else :\n",
    "     #   icon=folium.Icon(color=\"green\",icon=\"battery-full\", prefix='fa')\n",
    "        \n",
    "    \n",
    "    # marker = folium.Marker(\n",
    "     #  location = loc, \n",
    "     #   popup = pop, icon = icon) \n",
    "\n",
    "   # marker.add_to(map_scooters)\n",
    "#map_scooters.save('../maps/mapscooters.html')\n",
    "\n",
    "#display our map\n",
    "#map_scooters"
   ]
  },
  {
   "cell_type": "code",
   "execution_count": null,
   "metadata": {},
   "outputs": [],
   "source": []
  },
  {
   "cell_type": "code",
   "execution_count": null,
   "metadata": {},
   "outputs": [],
   "source": []
  }
 ],
 "metadata": {
  "kernelspec": {
   "display_name": "Python 3",
   "language": "python",
   "name": "python3"
  },
  "language_info": {
   "codemirror_mode": {
    "name": "ipython",
    "version": 3
   },
   "file_extension": ".py",
   "mimetype": "text/x-python",
   "name": "python",
   "nbconvert_exporter": "python",
   "pygments_lexer": "ipython3",
   "version": "3.8.5"
  }
 },
 "nbformat": 4,
 "nbformat_minor": 4
}
